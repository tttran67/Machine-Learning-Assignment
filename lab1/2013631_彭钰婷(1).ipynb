{
 "cells": [
  {
   "cell_type": "markdown",
   "id": "b4e5067e",
   "metadata": {},
   "source": [
    "# 机器学习第一次作业\n",
    "·姓名：彭钰婷  \n",
    "·学号：2013631  \n",
    "·专业：计算机科学与技术  \n",
    "\n",
    "## 实验要求\n",
    "题目：基于KNN的手写数字识别 \n",
    "实验条件：给定semeion手写数字数据集，给定kNN分类算法 \n",
    "实验要求：  \n",
    "1.基本要求：编程实现kNN算法；给出在不同k值（1，3，5）情况下，kNN算法对手写数字的识别精度（要求采用留一法）  \n",
    "2.中级要求：与weka机器学习包中的kNN分类结果进行对比  \n",
    "3.提高要求：将实验过程结果等图示展出  \n",
    "\n",
    "## 导入需要的包"
   ]
  },
  {
   "cell_type": "code",
   "execution_count": 12,
   "id": "20036483",
   "metadata": {},
   "outputs": [],
   "source": [
    "import numpy as np\n",
    "from collections import Counter\n",
    "import math\n",
    "import csv\n",
    "import matplotlib.pyplot as plt"
   ]
  },
  {
   "cell_type": "markdown",
   "id": "305464f6",
   "metadata": {},
   "source": [
    "## 导入数据集 semesion"
   ]
  },
  {
   "cell_type": "code",
   "execution_count": 13,
   "id": "1017e0b3",
   "metadata": {},
   "outputs": [],
   "source": [
    "# 导入数据\n",
    "def Img2Mat(fileName):\n",
    "    f = open(fileName)\n",
    "    ss = f.readlines()\n",
    "    l = len(ss)\n",
    "    f.close()\n",
    "    returnMat = np.zeros((l,256))\n",
    "    returnClassVector = np.zeros((l,1))\n",
    "    for i in range(l):\n",
    "        s1 = ss[i].split()\n",
    "        for j in range(256):\n",
    "            returnMat[i][j] = np.float(s1[j])\n",
    "        clCount = 0\n",
    "        for j in range(256,266):\n",
    "            if s1[j] != '1':\n",
    "                clCount += 1\n",
    "            else:\n",
    "                break\n",
    "        returnClassVector[i] = clCount\n",
    "    return returnMat,returnClassVector"
   ]
  },
  {
   "cell_type": "code",
   "execution_count": 14,
   "id": "ad133f0d",
   "metadata": {},
   "outputs": [
    {
     "name": "stderr",
     "output_type": "stream",
     "text": [
      "C:\\Users\\PengYuting\\AppData\\Local\\Temp\\ipykernel_4472\\2757158993.py:12: DeprecationWarning: `np.float` is a deprecated alias for the builtin `float`. To silence this warning, use `float` by itself. Doing this will not modify any behavior and is safe. If you specifically wanted the numpy scalar type, use `np.float64` here.\n",
      "Deprecated in NumPy 1.20; for more details and guidance: https://numpy.org/devdocs/release/1.20.0-notes.html#deprecations\n",
      "  returnMat[i][j] = np.float(s1[j])\n"
     ]
    },
    {
     "data": {
      "text/plain": [
       "((1593, 256), (1593, 1))"
      ]
     },
     "execution_count": 14,
     "metadata": {},
     "output_type": "execute_result"
    }
   ],
   "source": [
    "X,y = Img2Mat('D:\\Desktop\\ML\\Lab\\lab1\\semeion.data')\n",
    "np.shape(X), np.shape(y)"
   ]
  },
  {
   "cell_type": "markdown",
   "id": "e8a490e8",
   "metadata": {},
   "source": [
    "## 基本要求\n",
    "编程实现kNN算法；给出不同k值（1，3，5）情况下，kNN算法对手写数字的识别精度，采用留一法。"
   ]
  },
  {
   "cell_type": "code",
   "execution_count": 15,
   "id": "7fff8952",
   "metadata": {},
   "outputs": [],
   "source": [
    "# KNN算法手动实现\n",
    "def MyKnnClassifier(data_X, data_y, neighbors):\n",
    "    testround = 0\n",
    "    acc = 0 # 用于计算ACC\n",
    "    data_X = X.tolist()\n",
    "    data_y = y.tolist()\n",
    "    \n",
    "    # 自己实现留一法\n",
    "    \n",
    "    for test_index in range(1593):        \n",
    "        X_train = data_X[:]\n",
    "        X_train.pop(test_index)\n",
    "        X_test = data_X[test_index]\n",
    "        \n",
    "        y_train = data_y[:]\n",
    "        y_train.pop(test_index)\n",
    "        y_test = data_y[test_index]\n",
    "        \n",
    "        X_train = np.array(X_train)\n",
    "        X_test = np.array(X_test)\n",
    "        X_test = list(X_test)\n",
    "\n",
    "        y_train = np.array(y_train)\n",
    "        y_test = np.array(y_test)\n",
    "        \n",
    "        testround += 1\n",
    "        \n",
    "        trainShape = X_train.shape[0]   # 获得训练集的大小\n",
    "    \n",
    "        testShape = len(X_test)    # 获得测试集的大小\n",
    "\n",
    "        # 差异矩阵 = 该样本与训练集中所有样本之差构成的矩阵\n",
    "        testDiffMat = np.tile(X_test,(trainShape , 1)) - X_train\n",
    "        sqTestDiffMat = testDiffMat ** 2    # 将差异矩阵平方\n",
    "        # 方差距离为方差矩阵的整行求和，是一个一位列向量\n",
    "        sqTestDiffDis = sqTestDiffMat.sum(axis=1)\n",
    "        testDiffDis = sqTestDiffDis ** 0.5  # 开方生成标准差距离\n",
    "        sortIndex = np.argsort(testDiffDis)   # 将标准差距离按照下标排序\n",
    "        labelCount = []\n",
    "        for j in range(neighbors):  # 考察k近邻属于哪些类\n",
    "            labelCount.append(y_train[sortIndex[j]][0])\n",
    "        classifyRes = Counter(labelCount)    # 把k近邻中最多的那个标签作为分类结果\n",
    "        classifyRes = classifyRes.most_common(2)[0][0]\n",
    "        if classifyRes == y_test[0]:  # 分类正确则将accRate+1\n",
    "            acc += 1\n",
    "\n",
    "    accRate = acc / testround\n",
    "    print('k={0}时，测试个数为{1}  正确个数为：{2}  准确率为：{3}'.format(neighbors,testround,acc,accRate))\n",
    "    return accRate"
   ]
  },
  {
   "cell_type": "markdown",
   "id": "b15cf555",
   "metadata": {},
   "source": [
    "实验结果："
   ]
  },
  {
   "cell_type": "code",
   "execution_count": 16,
   "id": "b4741fca",
   "metadata": {},
   "outputs": [
    {
     "name": "stdout",
     "output_type": "stream",
     "text": [
      "k=1时，测试个数为1593  正确个数为：1459  准确率为：0.9158819836785939\n",
      "k=3时，测试个数为1593  正确个数为：1464  准确率为：0.9190207156308852\n",
      "k=5时，测试个数为1593  正确个数为：1458  准确率为：0.9152542372881356\n"
     ]
    },
    {
     "data": {
      "text/plain": [
       "0.9152542372881356"
      ]
     },
     "execution_count": 16,
     "metadata": {},
     "output_type": "execute_result"
    }
   ],
   "source": [
    "MyKnnClassifier(X, y, 1)\n",
    "MyKnnClassifier(X, y, 3)\n",
    "MyKnnClassifier(X, y, 5)"
   ]
  },
  {
   "cell_type": "markdown",
   "id": "3c3f5d09",
   "metadata": {},
   "source": [
    "## 中级要求\n",
    "与weka机器学习包中的kNN分类结果进行对比。"
   ]
  },
  {
   "cell_type": "markdown",
   "id": "a83350fc",
   "metadata": {},
   "source": [
    "下载weka软件，配置所需环境，在k分别取1，3，5的情况下使用weka的knn预测。选择lazy-IBK为weka的KNN Classifier，选择\"Cross-Vlidation\"并设置Folds=1593，点击\"Start\"，得到结果为，K=1时weka结果的acc=91.5882%(自己实现的也为91.5882%)，K=3时weka结果的acc=90.1444%(自己实现的为91.9021%)，K=5时weka结果的acc=90.7094%(自己实现的为91.5254%)。经比对可看出，weka模型在1593折时效果不如自己实现的KNN，但二者差别十分细微。"
   ]
  },
  {
   "cell_type": "markdown",
   "id": "0a2772d6",
   "metadata": {},
   "source": [
    "## 高级要求\n",
    "将实验过程结果等图示展出"
   ]
  },
  {
   "cell_type": "code",
   "execution_count": 17,
   "id": "fc38d291",
   "metadata": {},
   "outputs": [
    {
     "name": "stdout",
     "output_type": "stream",
     "text": [
      "k=1时，测试个数为1593  正确个数为：1459  准确率为：0.9158819836785939\n",
      "k=2时，测试个数为1593  正确个数为：1459  准确率为：0.9158819836785939\n",
      "k=3时，测试个数为1593  正确个数为：1464  准确率为：0.9190207156308852\n",
      "k=4时，测试个数为1593  正确个数为：1465  准确率为：0.9196484620213434\n",
      "k=5时，测试个数为1593  正确个数为：1458  准确率为：0.9152542372881356\n",
      "k=6时，测试个数为1593  正确个数为：1464  准确率为：0.9190207156308852\n",
      "k=7时，测试个数为1593  正确个数为：1469  准确率为：0.9221594475831764\n",
      "k=8时，测试个数为1593  正确个数为：1472  准确率为：0.9240426867545511\n",
      "k=9时，测试个数为1593  正确个数为：1471  准确率为：0.9234149403640929\n",
      "k=10时，测试个数为1593  正确个数为：1465  准确率为：0.9196484620213434\n",
      "k=11时，测试个数为1593  正确个数为：1456  准确率为：0.9139987445072191\n",
      "k=12时，测试个数为1593  正确个数为：1460  准确率为：0.9165097300690521\n",
      "k=13时，测试个数为1593  正确个数为：1461  准确率为：0.9171374764595104\n",
      "k=14时，测试个数为1593  正确个数为：1453  准确率为：0.9121155053358443\n",
      "k=15时，测试个数为1593  正确个数为：1446  准确率为：0.9077212806026366\n",
      "k=16时，测试个数为1593  正确个数为：1446  准确率为：0.9077212806026366\n",
      "k=17时，测试个数为1593  正确个数为：1442  准确率为：0.9052102950408035\n",
      "k=18时，测试个数为1593  正确个数为：1438  准确率为：0.9026993094789705\n",
      "k=19时，测试个数为1593  正确个数为：1436  准确率为：0.901443816698054\n",
      "k=20时，测试个数为1593  正确个数为：1435  准确率为：0.9008160703075957\n",
      "k=21时，测试个数为1593  正确个数为：1436  准确率为：0.901443816698054\n",
      "k=22时，测试个数为1593  正确个数为：1440  准确率为：0.903954802259887\n",
      "k=23时，测试个数为1593  正确个数为：1435  准确率为：0.9008160703075957\n",
      "k=24时，测试个数为1593  正确个数为：1427  准确率为：0.8957940991839297\n",
      "k=25时，测试个数为1593  正确个数为：1426  准确率为：0.8951663527934715\n",
      "k=26时，测试个数为1593  正确个数为：1424  准确率为：0.8939108600125549\n",
      "k=27时，测试个数为1593  正确个数为：1424  准确率为：0.8939108600125549\n",
      "k=28时，测试个数为1593  正确个数为：1417  准确率为：0.8895166352793471\n",
      "k=29时，测试个数为1593  正确个数为：1423  准确率为：0.8932831136220967\n",
      "k=30时，测试个数为1593  正确个数为：1422  准确率为：0.8926553672316384\n"
     ]
    }
   ],
   "source": [
    "scores1 = []\n",
    "scores2 = []\n",
    "\n",
    "for k in range(1,31):\n",
    "    score1 = MyKnnClassifier(X, y, k)\n",
    "    scores1.append(score1)"
   ]
  },
  {
   "cell_type": "code",
   "execution_count": 18,
   "id": "1913b9ac",
   "metadata": {},
   "outputs": [],
   "source": [
    "path = r'./result.csv'\n",
    "with open(path) as f:\n",
    "    f_csv = csv.reader(f)\n",
    "    headers = next(f_csv)\n",
    "    for row in f_csv:\n",
    "        scores2.append(float(row[2]))"
   ]
  },
  {
   "cell_type": "code",
   "execution_count": 22,
   "id": "cee3e7ee",
   "metadata": {},
   "outputs": [
    {
     "data": {
      "image/png": "[encoded data removed]",
      "text/plain": [
       "<Figure size 640x480 with 1 Axes>"
      ]
     },
     "metadata": {},
     "output_type": "display_data"
    }
   ],
   "source": [
    "plt.xlabel('k value:',fontsize=18)\n",
    "plt.ylabel('accuracy',fontsize=18)\n",
    "x_major_locator = plt.MultipleLocator(1)\n",
    "ax = plt.gca()\n",
    "ax.xaxis.set_major_locator(x_major_locator)\n",
    "plt.xlim(0, 31)\n",
    "plt.ylim(0.75, 1)\n",
    "# 普通kNN分类精度\n",
    "plt.plot(range(1,31),scores1,'r')\n",
    "plt.plot(range(1,31),scores2,'b')\n",
    "plt.show()"
   ]
  }
 ],
 "metadata": {
  "kernelspec": {
   "display_name": "Python 3 (ipykernel)",
   "language": "python",
   "name": "python3"
  },
  "language_info": {
   "codemirror_mode": {
    "name": "ipython",
    "version": 3
   },
   "file_extension": ".py",
   "mimetype": "text/x-python",
   "name": "python",
   "nbconvert_exporter": "python",
   "pygments_lexer": "ipython3",
   "version": "3.9.13"
  }
 },
 "nbformat": 4,
 "nbformat_minor": 5
}
